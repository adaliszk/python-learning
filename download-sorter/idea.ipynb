{
 "cells": [
  {
   "cell_type": "code",
   "execution_count": null,
   "outputs": [],
   "source": [
    "import os\n",
    "import shutil\n",
    "import sys\n",
    "import time\n",
    "import logging\n",
    "from os.path import exists, splitext, join\n",
    "\n",
    "from watchdog.observers import Observer\n",
    "from watchdog.events import LoggingEventHandler, FileSystemEventHandler\n",
    "\n",
    "source_dir = \"E:\\Downloads\"\n",
    "dest_dir_images = \"E:\\Downloads\\Downloaded images\"\n",
    "dest_dir_pdfs = \"E:\\Downloads\\Downloaded pdfs\"\n",
    "dest_dir_programs = \"E:\\Downloads\\Downloaded programs\"\n",
    "dest_dir_rar_files = \"E:\\Downloads\\Downloaded archives\"\n",
    "\n",
    "\n",
    "def makeunique(dest, name):\n",
    "    filename, extension = splitext(name)\n",
    "    counter = 1\n",
    "    # * IF FILE EXISTS, ADDS NUMBER TO THE END OF THE FILENAME\n",
    "    while exists(f\"{dest}/{name}\"):\n",
    "        name = f\"{filename}({str(counter)}){extension}\"\n",
    "        counter += 1\n",
    "\n",
    "    return name\n",
    "\n",
    "\n",
    "def move_file(dest, entry, name):\n",
    "    file_exists = os.path.exists(dest + \"/\" + name)\n",
    "    if file_exists:\n",
    "        unique_name = makeunique(name)\n",
    "        os.rename(entry, unique_name)\n",
    "    shutil.move(entry, dest)\n",
    "\n",
    "\n",
    "class MoverHandler(FileSystemEventHandler):\n",
    "    def on_modifed(self, event):\n",
    "        with os.scandir(source_dir) as entries:\n",
    "            for entry in entries:\n",
    "                name = entry.name\n",
    "                dest = source_dir\n",
    "                if name.endswith('.jpg') or name.endswith('.png'):\n",
    "                    dest = dest_dir_images\n",
    "                    shutil.move(dest, entry, name)\n",
    "                elif name.endswith('.pdf'):\n",
    "                    dest = dest_dir_pdfs\n",
    "                    shutil.move(dest, entry, name)\n",
    "                elif name.endswith('.exe'):\n",
    "                    dest = dest_dir_programs\n",
    "                    shutil.move(dest, entry, name)\n",
    "                elif name.endswith('.rar'):\n",
    "                    dest = dest_dir_rar_files\n",
    "                    shutil.move(dest, entry, name)\n",
    "\n",
    "\n",
    "if __name__ == \"__main__\":\n",
    "    logging.basicConfig(level=logging.INFO,\n",
    "                        format='%(asctime)s - %(message)s',\n",
    "                        datefmt='%Y-%m-%d %H:%M:%S')\n",
    "    path = source_dir\n",
    "    event_handler = MoverHandler()\n",
    "    observer = Observer()\n",
    "    observer.schedule(event_handler, path, recursive=True)\n",
    "    observer.start()\n",
    "    try:\n",
    "        while True:\n",
    "            time.sleep(1)\n",
    "    except KeyboardInterrupt:\n",
    "        observer.stop()\n",
    "    observer.join()\n"
   ],
   "metadata": {
    "collapsed": false
   }
  },
  {
   "cell_type": "code",
   "execution_count": 5,
   "outputs": [
    {
     "ename": "FileNotFoundError",
     "evalue": "[WinError 3] The system cannot find the path specified: '/mnt/c/Users/adaliszk/Downloads'",
     "output_type": "error",
     "traceback": [
      "\u001B[1;31m---------------------------------------------------------------------------\u001B[0m",
      "\u001B[1;31mFileNotFoundError\u001B[0m                         Traceback (most recent call last)",
      "Cell \u001B[1;32mIn[5], line 4\u001B[0m\n\u001B[0;32m      1\u001B[0m \u001B[38;5;28;01mfrom\u001B[39;00m \u001B[38;5;21;01mglob\u001B[39;00m \u001B[38;5;28;01mimport\u001B[39;00m glob\n\u001B[0;32m      2\u001B[0m \u001B[38;5;28;01mfrom\u001B[39;00m \u001B[38;5;21;01mos\u001B[39;00m \u001B[38;5;28;01mimport\u001B[39;00m chdir\n\u001B[1;32m----> 4\u001B[0m \u001B[43mchdir\u001B[49m\u001B[43m(\u001B[49m\u001B[38;5;124;43m\"\u001B[39;49m\u001B[38;5;124;43m/mnt/c/Users/adaliszk/Downloads\u001B[39;49m\u001B[38;5;124;43m\"\u001B[39;49m\u001B[43m)\u001B[49m\n\u001B[0;32m      5\u001B[0m match \u001B[38;5;241m=\u001B[39m glob(\u001B[38;5;124m\"\u001B[39m\u001B[38;5;124m*.jpg\u001B[39m\u001B[38;5;124m\"\u001B[39m)\n\u001B[0;32m      7\u001B[0m \u001B[38;5;28mprint\u001B[39m(match)\n",
      "\u001B[1;31mFileNotFoundError\u001B[0m: [WinError 3] The system cannot find the path specified: '/mnt/c/Users/adaliszk/Downloads'"
     ]
    }
   ],
   "source": [
    "from glob import glob\n",
    "from os import chdir\n",
    "\n",
    "chdir(\"/mnt/c/Users/adaliszk/Downloads\")\n",
    "match = glob(\"*.jpg\")\n",
    "\n",
    "print(match)"
   ],
   "metadata": {
    "collapsed": false
   }
  },
  {
   "cell_type": "code",
   "execution_count": 4,
   "outputs": [
    {
     "name": "stdout",
     "output_type": "stream",
     "text": [
      "somefile .ext\n"
     ]
    }
   ],
   "source": [
    "from os import path\n",
    "\n",
    "filename, extension = path.splitext(\"somefile.ext\")\n",
    "\n",
    "print(filename, extension)"
   ],
   "metadata": {
    "collapsed": false
   }
  }
 ],
 "metadata": {
  "kernelspec": {
   "display_name": "Python 3",
   "language": "python",
   "name": "python3"
  },
  "language_info": {
   "codemirror_mode": {
    "name": "ipython",
    "version": 2
   },
   "file_extension": ".py",
   "mimetype": "text/x-python",
   "name": "python",
   "nbconvert_exporter": "python",
   "pygments_lexer": "ipython2",
   "version": "2.7.6"
  }
 },
 "nbformat": 4,
 "nbformat_minor": 0
}
